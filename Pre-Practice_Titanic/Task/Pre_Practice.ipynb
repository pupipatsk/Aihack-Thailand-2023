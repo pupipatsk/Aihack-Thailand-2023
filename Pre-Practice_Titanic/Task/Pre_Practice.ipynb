{
  "cells": [
    {
      "cell_type": "markdown",
      "metadata": {
        "id": "rloPi3arTflw"
      },
      "source": [
        "# Mounts drive"
      ]
    },
    {
      "cell_type": "code",
      "execution_count": 1,
      "metadata": {
        "colab": {
          "base_uri": "https://localhost:8080/"
        },
        "id": "mnmd0wRBJysK",
        "outputId": "666f2813-86d7-4208-cd36-53673f263534"
      },
      "outputs": [],
      "source": [
        "# from google.colab import drive\n",
        "# drive.mount('/content/drive/')"
      ]
    },
    {
      "cell_type": "code",
      "execution_count": 2,
      "metadata": {
        "colab": {
          "base_uri": "https://localhost:8080/"
        },
        "id": "bpzcnu-BUV2B",
        "outputId": "7e11e9eb-41ca-4ae0-99cf-b2d6768899a4"
      },
      "outputs": [],
      "source": [
        "# import os\n",
        "# path_folder = '/content/drive/MyDrive/Pre-Practice'\n",
        "# os.chdir(path_folder)\n",
        "# print('current_directory:', os.getcwd())\n",
        "# !ls"
      ]
    },
    {
      "cell_type": "markdown",
      "metadata": {
        "id": "XkLKNX96Z-jK"
      },
      "source": [
        "# Imports"
      ]
    },
    {
      "cell_type": "code",
      "execution_count": 3,
      "metadata": {
        "id": "5__WjdyPaCJ4"
      },
      "outputs": [],
      "source": [
        "# from IPython.display import clear_output\n",
        "# !pip install -U lazypredict\n",
        "# !pip install -U pandas # Upgrading pandas\n",
        "\n",
        "# clear_output()"
      ]
    },
    {
      "cell_type": "code",
      "execution_count": 4,
      "metadata": {
        "id": "tmuiR21TbuSE"
      },
      "outputs": [],
      "source": [
        "import numpy as np\n",
        "import pandas as pd\n",
        "import seaborn as sns\n",
        "import plotly.express as px\n",
        "import matplotlib.pyplot as plt\n",
        "import plotly.graph_objects as go\n",
        "from plotly.subplots import make_subplots\n",
        "\n",
        "\n",
        "from sklearn.impute import SimpleImputer\n",
        "from sklearn.metrics import accuracy_score, roc_curve, auc, roc_auc_score\n",
        "from sklearn.preprocessing import LabelEncoder\n",
        "from sklearn.model_selection import StratifiedKFold, train_test_split\n",
        "\n",
        "\n",
        "from lightgbm import LGBMClassifier\n",
        "# import lazypredict\n",
        "# from lazypredict.Supervised import LazyClassifier\n",
        "\n",
        "\n",
        "import time\n",
        "import warnings\n",
        "warnings.filterwarnings('ignore')"
      ]
    },
    {
      "cell_type": "markdown",
      "metadata": {
        "id": "XgzOWDk8U2bs"
      },
      "source": [
        "# Data Loading and Preparation"
      ]
    },
    {
      "cell_type": "code",
      "execution_count": 5,
      "metadata": {
        "id": "03XY8cwaU7YK"
      },
      "outputs": [],
      "source": [
        "train = pd.read_csv('train.csv')\n",
        "test = pd.read_csv('test.csv')\n",
        "sample_submission = pd.read_csv('submission_sample.csv')"
      ]
    },
    {
      "cell_type": "markdown",
      "metadata": {
        "id": "kF1fojkteUDN"
      },
      "source": [
        "## Column Descriptions:\n",
        "* `id` - client id\n",
        "* `age` - (numeric)\n",
        "* `job` - type of job (categorical: 'admin.','blue-collar','entrepreneur','housemaid','management','retired','self-employed','services','student','technician','unemployed','unknown')\n",
        "* `martial` - marital status (categorical: 'divorced','married','single','unknown'; note: 'divorced' means divorced or widowed)\n",
        "* `education` - (categorical: 'basic.4y','basic.6y','basic.9y','high.school','illiterate','professional.course','university.degree','unknown')\n",
        "* `default` - has credit in default? (categorical: 'no','yes','unknown')\n",
        "* `balance` - (numeric)\n",
        "* `housing` - has housing loan? (categorical: 'no','yes','unknown')\n",
        "* `loan` - has personal loan? (categorical: 'no','yes','unknown')\n",
        "* `contact` - contact communication type (categorical: 'cellular','telephone')\n",
        "* `month` - last contact month of year (categorical: 'jan', 'feb', 'mar', ..., 'nov', 'dec')\n",
        "* `duration` - last contact duration, in seconds (numeric). Important note: this attribute highly affects the output target (e.g., if duration=0 then y='no'). Yet, the duration is not known before a call is performed. Also, after the end of the call y is obviously known. Thus, this input should only be included for benchmark purposes and should be discarded if the intention is to have a realistic predictive model.\n",
        "* `campaign` - number of contacts performed during this campaign and for this client (numeric, includes last contact)\n",
        "* `pdays` - number of days that passed by after the client was last contacted from a previous campaign (numeric; 999 means client was not previously contacted)\n",
        "* `previous` - number of contacts performed before this campaign and for this client (numeric)\n",
        "* `poutcome` - outcome of the previous marketing campaign (categorical: 'failure','nonexistent','success')\n",
        "* `y`"
      ]
    },
    {
      "cell_type": "markdown",
      "metadata": {
        "id": "s6iBBXYMgBrQ"
      },
      "source": [
        "## Exploring Train Data\n"
      ]
    },
    {
      "cell_type": "markdown",
      "metadata": {
        "id": "ikEViYjGgJSf"
      },
      "source": [
        "### Quick view of Train Data"
      ]
    },
    {
      "cell_type": "code",
      "execution_count": 6,
      "metadata": {
        "colab": {
          "base_uri": "https://localhost:8080/",
          "height": 226
        },
        "id": "CNgwdx4vgOko",
        "outputId": "1f5552b6-8291-4423-a93a-c6866aa8f194"
      },
      "outputs": [
        {
          "data": {
            "text/html": [
              "<div>\n",
              "<style scoped>\n",
              "    .dataframe tbody tr th:only-of-type {\n",
              "        vertical-align: middle;\n",
              "    }\n",
              "\n",
              "    .dataframe tbody tr th {\n",
              "        vertical-align: top;\n",
              "    }\n",
              "\n",
              "    .dataframe thead th {\n",
              "        text-align: right;\n",
              "    }\n",
              "</style>\n",
              "<table border=\"1\" class=\"dataframe\">\n",
              "  <thead>\n",
              "    <tr style=\"text-align: right;\">\n",
              "      <th></th>\n",
              "      <th>id</th>\n",
              "      <th>age</th>\n",
              "      <th>job</th>\n",
              "      <th>marital</th>\n",
              "      <th>education</th>\n",
              "      <th>default</th>\n",
              "      <th>balance</th>\n",
              "      <th>housing</th>\n",
              "      <th>loan</th>\n",
              "      <th>contact</th>\n",
              "      <th>month</th>\n",
              "      <th>duration</th>\n",
              "      <th>campaign</th>\n",
              "      <th>pdays</th>\n",
              "      <th>previous</th>\n",
              "      <th>poutcome</th>\n",
              "      <th>y</th>\n",
              "    </tr>\n",
              "  </thead>\n",
              "  <tbody>\n",
              "    <tr>\n",
              "      <th>0</th>\n",
              "      <td>1</td>\n",
              "      <td>30</td>\n",
              "      <td>unemployed</td>\n",
              "      <td>married</td>\n",
              "      <td>primary</td>\n",
              "      <td>no</td>\n",
              "      <td>1787</td>\n",
              "      <td>no</td>\n",
              "      <td>no</td>\n",
              "      <td>cellular</td>\n",
              "      <td>oct</td>\n",
              "      <td>79</td>\n",
              "      <td>1</td>\n",
              "      <td>-1</td>\n",
              "      <td>0</td>\n",
              "      <td>unknown</td>\n",
              "      <td>no</td>\n",
              "    </tr>\n",
              "    <tr>\n",
              "      <th>1</th>\n",
              "      <td>2</td>\n",
              "      <td>33</td>\n",
              "      <td>services</td>\n",
              "      <td>married</td>\n",
              "      <td>secondary</td>\n",
              "      <td>no</td>\n",
              "      <td>4789</td>\n",
              "      <td>yes</td>\n",
              "      <td>yes</td>\n",
              "      <td>cellular</td>\n",
              "      <td>may</td>\n",
              "      <td>220</td>\n",
              "      <td>1</td>\n",
              "      <td>339</td>\n",
              "      <td>4</td>\n",
              "      <td>failure</td>\n",
              "      <td>no</td>\n",
              "    </tr>\n",
              "    <tr>\n",
              "      <th>2</th>\n",
              "      <td>3</td>\n",
              "      <td>35</td>\n",
              "      <td>management</td>\n",
              "      <td>single</td>\n",
              "      <td>tertiary</td>\n",
              "      <td>no</td>\n",
              "      <td>1350</td>\n",
              "      <td>yes</td>\n",
              "      <td>no</td>\n",
              "      <td>cellular</td>\n",
              "      <td>apr</td>\n",
              "      <td>185</td>\n",
              "      <td>1</td>\n",
              "      <td>330</td>\n",
              "      <td>1</td>\n",
              "      <td>failure</td>\n",
              "      <td>no</td>\n",
              "    </tr>\n",
              "    <tr>\n",
              "      <th>3</th>\n",
              "      <td>4</td>\n",
              "      <td>30</td>\n",
              "      <td>management</td>\n",
              "      <td>married</td>\n",
              "      <td>tertiary</td>\n",
              "      <td>no</td>\n",
              "      <td>1476</td>\n",
              "      <td>yes</td>\n",
              "      <td>yes</td>\n",
              "      <td>unknown</td>\n",
              "      <td>jun</td>\n",
              "      <td>199</td>\n",
              "      <td>4</td>\n",
              "      <td>-1</td>\n",
              "      <td>0</td>\n",
              "      <td>unknown</td>\n",
              "      <td>no</td>\n",
              "    </tr>\n",
              "    <tr>\n",
              "      <th>4</th>\n",
              "      <td>5</td>\n",
              "      <td>59</td>\n",
              "      <td>blue-collar</td>\n",
              "      <td>married</td>\n",
              "      <td>secondary</td>\n",
              "      <td>no</td>\n",
              "      <td>0</td>\n",
              "      <td>yes</td>\n",
              "      <td>no</td>\n",
              "      <td>unknown</td>\n",
              "      <td>may</td>\n",
              "      <td>226</td>\n",
              "      <td>1</td>\n",
              "      <td>-1</td>\n",
              "      <td>0</td>\n",
              "      <td>unknown</td>\n",
              "      <td>no</td>\n",
              "    </tr>\n",
              "  </tbody>\n",
              "</table>\n",
              "</div>"
            ],
            "text/plain": [
              "   id  age          job  marital  education default  balance housing loan  \\\n",
              "0   1   30   unemployed  married    primary      no     1787      no   no   \n",
              "1   2   33     services  married  secondary      no     4789     yes  yes   \n",
              "2   3   35   management   single   tertiary      no     1350     yes   no   \n",
              "3   4   30   management  married   tertiary      no     1476     yes  yes   \n",
              "4   5   59  blue-collar  married  secondary      no        0     yes   no   \n",
              "\n",
              "    contact month  duration  campaign  pdays  previous poutcome   y  \n",
              "0  cellular   oct        79         1     -1         0  unknown  no  \n",
              "1  cellular   may       220         1    339         4  failure  no  \n",
              "2  cellular   apr       185         1    330         1  failure  no  \n",
              "3   unknown   jun       199         4     -1         0  unknown  no  \n",
              "4   unknown   may       226         1     -1         0  unknown  no  "
            ]
          },
          "execution_count": 6,
          "metadata": {},
          "output_type": "execute_result"
        }
      ],
      "source": [
        "train.head()"
      ]
    },
    {
      "cell_type": "code",
      "execution_count": 7,
      "metadata": {
        "colab": {
          "base_uri": "https://localhost:8080/"
        },
        "id": "Mo4VBKFrgQ6y",
        "outputId": "bbc67915-5bee-4e64-dc1b-14cb780ff35c"
      },
      "outputs": [
        {
          "name": "stdout",
          "output_type": "stream",
          "text": [
            "\u001b[94m\n",
            "Number of rows in train data: 3999\n",
            "Number of columns in train data: 17\n",
            "Number of values in train data: 67983\n",
            "Number of missing values in train data: 0\n"
          ]
        }
      ],
      "source": [
        "print(f'\\033[94m')\n",
        "print(f'Number of rows in train data: {train.shape[0]}')\n",
        "print(f'Number of columns in train data: {train.shape[1]}')\n",
        "print(f'Number of values in train data: {train.count().sum()}')\n",
        "print(f'Number of missing values in train data: {sum(train.isna().sum())}')"
      ]
    },
    {
      "cell_type": "markdown",
      "metadata": {
        "id": "g76xyEQFhq8a"
      },
      "source": [
        "### Column Wise missing values"
      ]
    },
    {
      "cell_type": "code",
      "execution_count": 8,
      "metadata": {
        "colab": {
          "base_uri": "https://localhost:8080/"
        },
        "id": "B1S3TIi1h0DV",
        "outputId": "f72d9183-9fcb-4275-b29b-0861bc10828a"
      },
      "outputs": [
        {
          "name": "stdout",
          "output_type": "stream",
          "text": [
            "\u001b[94m\n",
            "id           0\n",
            "age          0\n",
            "job          0\n",
            "marital      0\n",
            "education    0\n",
            "default      0\n",
            "balance      0\n",
            "housing      0\n",
            "loan         0\n",
            "contact      0\n",
            "month        0\n",
            "duration     0\n",
            "campaign     0\n",
            "pdays        0\n",
            "previous     0\n",
            "poutcome     0\n",
            "y            0\n",
            "dtype: int64\n"
          ]
        }
      ],
      "source": [
        "print(f'\\033[94m')\n",
        "print(train.isna().sum())"
      ]
    },
    {
      "cell_type": "markdown",
      "metadata": {
        "id": "q-xFtgdoh8kd"
      },
      "source": [
        "### Basic statistics of training data"
      ]
    },
    {
      "cell_type": "code",
      "execution_count": 9,
      "metadata": {
        "colab": {
          "base_uri": "https://localhost:8080/",
          "height": 300
        },
        "id": "wzKOHS-AiBQW",
        "outputId": "366874c9-f318-4cc0-e598-379dcd17394a"
      },
      "outputs": [
        {
          "data": {
            "text/html": [
              "<div>\n",
              "<style scoped>\n",
              "    .dataframe tbody tr th:only-of-type {\n",
              "        vertical-align: middle;\n",
              "    }\n",
              "\n",
              "    .dataframe tbody tr th {\n",
              "        vertical-align: top;\n",
              "    }\n",
              "\n",
              "    .dataframe thead th {\n",
              "        text-align: right;\n",
              "    }\n",
              "</style>\n",
              "<table border=\"1\" class=\"dataframe\">\n",
              "  <thead>\n",
              "    <tr style=\"text-align: right;\">\n",
              "      <th></th>\n",
              "      <th>id</th>\n",
              "      <th>age</th>\n",
              "      <th>balance</th>\n",
              "      <th>duration</th>\n",
              "      <th>campaign</th>\n",
              "      <th>pdays</th>\n",
              "      <th>previous</th>\n",
              "    </tr>\n",
              "  </thead>\n",
              "  <tbody>\n",
              "    <tr>\n",
              "      <th>count</th>\n",
              "      <td>3999.000000</td>\n",
              "      <td>3999.000000</td>\n",
              "      <td>3999.000000</td>\n",
              "      <td>3999.000000</td>\n",
              "      <td>3999.000000</td>\n",
              "      <td>3999.000000</td>\n",
              "      <td>3999.000000</td>\n",
              "    </tr>\n",
              "    <tr>\n",
              "      <th>mean</th>\n",
              "      <td>2000.000000</td>\n",
              "      <td>41.204551</td>\n",
              "      <td>1416.183796</td>\n",
              "      <td>261.906477</td>\n",
              "      <td>2.780695</td>\n",
              "      <td>39.365341</td>\n",
              "      <td>0.540385</td>\n",
              "    </tr>\n",
              "    <tr>\n",
              "      <th>std</th>\n",
              "      <td>1154.556192</td>\n",
              "      <td>10.580862</td>\n",
              "      <td>3017.975038</td>\n",
              "      <td>258.845954</td>\n",
              "      <td>3.083492</td>\n",
              "      <td>99.533237</td>\n",
              "      <td>1.651415</td>\n",
              "    </tr>\n",
              "    <tr>\n",
              "      <th>min</th>\n",
              "      <td>1.000000</td>\n",
              "      <td>19.000000</td>\n",
              "      <td>-2082.000000</td>\n",
              "      <td>4.000000</td>\n",
              "      <td>1.000000</td>\n",
              "      <td>-1.000000</td>\n",
              "      <td>0.000000</td>\n",
              "    </tr>\n",
              "    <tr>\n",
              "      <th>25%</th>\n",
              "      <td>1000.500000</td>\n",
              "      <td>33.000000</td>\n",
              "      <td>68.000000</td>\n",
              "      <td>104.000000</td>\n",
              "      <td>1.000000</td>\n",
              "      <td>-1.000000</td>\n",
              "      <td>0.000000</td>\n",
              "    </tr>\n",
              "    <tr>\n",
              "      <th>50%</th>\n",
              "      <td>2000.000000</td>\n",
              "      <td>39.000000</td>\n",
              "      <td>445.000000</td>\n",
              "      <td>184.000000</td>\n",
              "      <td>2.000000</td>\n",
              "      <td>-1.000000</td>\n",
              "      <td>0.000000</td>\n",
              "    </tr>\n",
              "    <tr>\n",
              "      <th>75%</th>\n",
              "      <td>2999.500000</td>\n",
              "      <td>49.000000</td>\n",
              "      <td>1470.000000</td>\n",
              "      <td>325.500000</td>\n",
              "      <td>3.000000</td>\n",
              "      <td>-1.000000</td>\n",
              "      <td>0.000000</td>\n",
              "    </tr>\n",
              "    <tr>\n",
              "      <th>max</th>\n",
              "      <td>3999.000000</td>\n",
              "      <td>87.000000</td>\n",
              "      <td>71188.000000</td>\n",
              "      <td>3025.000000</td>\n",
              "      <td>50.000000</td>\n",
              "      <td>871.000000</td>\n",
              "      <td>24.000000</td>\n",
              "    </tr>\n",
              "  </tbody>\n",
              "</table>\n",
              "</div>"
            ],
            "text/plain": [
              "                id          age       balance     duration     campaign  \\\n",
              "count  3999.000000  3999.000000   3999.000000  3999.000000  3999.000000   \n",
              "mean   2000.000000    41.204551   1416.183796   261.906477     2.780695   \n",
              "std    1154.556192    10.580862   3017.975038   258.845954     3.083492   \n",
              "min       1.000000    19.000000  -2082.000000     4.000000     1.000000   \n",
              "25%    1000.500000    33.000000     68.000000   104.000000     1.000000   \n",
              "50%    2000.000000    39.000000    445.000000   184.000000     2.000000   \n",
              "75%    2999.500000    49.000000   1470.000000   325.500000     3.000000   \n",
              "max    3999.000000    87.000000  71188.000000  3025.000000    50.000000   \n",
              "\n",
              "             pdays     previous  \n",
              "count  3999.000000  3999.000000  \n",
              "mean     39.365341     0.540385  \n",
              "std      99.533237     1.651415  \n",
              "min      -1.000000     0.000000  \n",
              "25%      -1.000000     0.000000  \n",
              "50%      -1.000000     0.000000  \n",
              "75%      -1.000000     0.000000  \n",
              "max     871.000000    24.000000  "
            ]
          },
          "execution_count": 9,
          "metadata": {},
          "output_type": "execute_result"
        }
      ],
      "source": [
        "train.describe()"
      ]
    },
    {
      "cell_type": "code",
      "execution_count": 10,
      "metadata": {
        "colab": {
          "base_uri": "https://localhost:8080/",
          "height": 175
        },
        "id": "Goexcr31jFGV",
        "outputId": "cb7c8d8f-c900-4242-c5e0-ed56e06b745a"
      },
      "outputs": [
        {
          "data": {
            "text/html": [
              "<div>\n",
              "<style scoped>\n",
              "    .dataframe tbody tr th:only-of-type {\n",
              "        vertical-align: middle;\n",
              "    }\n",
              "\n",
              "    .dataframe tbody tr th {\n",
              "        vertical-align: top;\n",
              "    }\n",
              "\n",
              "    .dataframe thead th {\n",
              "        text-align: right;\n",
              "    }\n",
              "</style>\n",
              "<table border=\"1\" class=\"dataframe\">\n",
              "  <thead>\n",
              "    <tr style=\"text-align: right;\">\n",
              "      <th></th>\n",
              "      <th>job</th>\n",
              "      <th>marital</th>\n",
              "      <th>education</th>\n",
              "      <th>default</th>\n",
              "      <th>housing</th>\n",
              "      <th>loan</th>\n",
              "      <th>contact</th>\n",
              "      <th>month</th>\n",
              "      <th>poutcome</th>\n",
              "      <th>y</th>\n",
              "    </tr>\n",
              "  </thead>\n",
              "  <tbody>\n",
              "    <tr>\n",
              "      <th>count</th>\n",
              "      <td>3999</td>\n",
              "      <td>3999</td>\n",
              "      <td>3999</td>\n",
              "      <td>3999</td>\n",
              "      <td>3999</td>\n",
              "      <td>3999</td>\n",
              "      <td>3999</td>\n",
              "      <td>3999</td>\n",
              "      <td>3999</td>\n",
              "      <td>3999</td>\n",
              "    </tr>\n",
              "    <tr>\n",
              "      <th>unique</th>\n",
              "      <td>12</td>\n",
              "      <td>3</td>\n",
              "      <td>4</td>\n",
              "      <td>2</td>\n",
              "      <td>2</td>\n",
              "      <td>2</td>\n",
              "      <td>3</td>\n",
              "      <td>12</td>\n",
              "      <td>4</td>\n",
              "      <td>2</td>\n",
              "    </tr>\n",
              "    <tr>\n",
              "      <th>top</th>\n",
              "      <td>management</td>\n",
              "      <td>married</td>\n",
              "      <td>secondary</td>\n",
              "      <td>no</td>\n",
              "      <td>yes</td>\n",
              "      <td>no</td>\n",
              "      <td>cellular</td>\n",
              "      <td>may</td>\n",
              "      <td>unknown</td>\n",
              "      <td>no</td>\n",
              "    </tr>\n",
              "    <tr>\n",
              "      <th>freq</th>\n",
              "      <td>871</td>\n",
              "      <td>2490</td>\n",
              "      <td>2028</td>\n",
              "      <td>3930</td>\n",
              "      <td>2262</td>\n",
              "      <td>3385</td>\n",
              "      <td>2568</td>\n",
              "      <td>1241</td>\n",
              "      <td>3281</td>\n",
              "      <td>3541</td>\n",
              "    </tr>\n",
              "  </tbody>\n",
              "</table>\n",
              "</div>"
            ],
            "text/plain": [
              "               job  marital  education default housing  loan   contact month  \\\n",
              "count         3999     3999       3999    3999    3999  3999      3999  3999   \n",
              "unique          12        3          4       2       2     2         3    12   \n",
              "top     management  married  secondary      no     yes    no  cellular   may   \n",
              "freq           871     2490       2028    3930    2262  3385      2568  1241   \n",
              "\n",
              "       poutcome     y  \n",
              "count      3999  3999  \n",
              "unique        4     2  \n",
              "top     unknown    no  \n",
              "freq       3281  3541  "
            ]
          },
          "execution_count": 10,
          "metadata": {},
          "output_type": "execute_result"
        }
      ],
      "source": [
        "train.describe(include='O')"
      ]
    },
    {
      "cell_type": "markdown",
      "metadata": {
        "id": "N_QwHK8YiP0f"
      },
      "source": [
        "## Exploring Test Data"
      ]
    },
    {
      "cell_type": "markdown",
      "metadata": {
        "id": "AFNLeCdQiWfO"
      },
      "source": [
        "### Quick view of Test Data"
      ]
    },
    {
      "cell_type": "code",
      "execution_count": 11,
      "metadata": {
        "colab": {
          "base_uri": "https://localhost:8080/",
          "height": 226
        },
        "id": "Ort3HR-HiiNx",
        "outputId": "0d81f089-f0af-41f3-e8cc-fba39f6654b8"
      },
      "outputs": [
        {
          "data": {
            "text/html": [
              "<div>\n",
              "<style scoped>\n",
              "    .dataframe tbody tr th:only-of-type {\n",
              "        vertical-align: middle;\n",
              "    }\n",
              "\n",
              "    .dataframe tbody tr th {\n",
              "        vertical-align: top;\n",
              "    }\n",
              "\n",
              "    .dataframe thead th {\n",
              "        text-align: right;\n",
              "    }\n",
              "</style>\n",
              "<table border=\"1\" class=\"dataframe\">\n",
              "  <thead>\n",
              "    <tr style=\"text-align: right;\">\n",
              "      <th></th>\n",
              "      <th>id</th>\n",
              "      <th>age</th>\n",
              "      <th>job</th>\n",
              "      <th>marital</th>\n",
              "      <th>education</th>\n",
              "      <th>default</th>\n",
              "      <th>balance</th>\n",
              "      <th>housing</th>\n",
              "      <th>loan</th>\n",
              "      <th>contact</th>\n",
              "      <th>month</th>\n",
              "      <th>duration</th>\n",
              "      <th>campaign</th>\n",
              "      <th>pdays</th>\n",
              "      <th>previous</th>\n",
              "      <th>poutcome</th>\n",
              "      <th>y</th>\n",
              "    </tr>\n",
              "  </thead>\n",
              "  <tbody>\n",
              "    <tr>\n",
              "      <th>0</th>\n",
              "      <td>4000</td>\n",
              "      <td>44</td>\n",
              "      <td>services</td>\n",
              "      <td>married</td>\n",
              "      <td>secondary</td>\n",
              "      <td>no</td>\n",
              "      <td>27</td>\n",
              "      <td>no</td>\n",
              "      <td>no</td>\n",
              "      <td>cellular</td>\n",
              "      <td>may</td>\n",
              "      <td>485</td>\n",
              "      <td>1</td>\n",
              "      <td>-1</td>\n",
              "      <td>0</td>\n",
              "      <td>unknown</td>\n",
              "      <td>no</td>\n",
              "    </tr>\n",
              "    <tr>\n",
              "      <th>1</th>\n",
              "      <td>4001</td>\n",
              "      <td>53</td>\n",
              "      <td>admin.</td>\n",
              "      <td>divorced</td>\n",
              "      <td>secondary</td>\n",
              "      <td>no</td>\n",
              "      <td>26</td>\n",
              "      <td>yes</td>\n",
              "      <td>no</td>\n",
              "      <td>cellular</td>\n",
              "      <td>may</td>\n",
              "      <td>56</td>\n",
              "      <td>1</td>\n",
              "      <td>359</td>\n",
              "      <td>1</td>\n",
              "      <td>failure</td>\n",
              "      <td>no</td>\n",
              "    </tr>\n",
              "    <tr>\n",
              "      <th>2</th>\n",
              "      <td>4002</td>\n",
              "      <td>36</td>\n",
              "      <td>technician</td>\n",
              "      <td>married</td>\n",
              "      <td>secondary</td>\n",
              "      <td>no</td>\n",
              "      <td>191</td>\n",
              "      <td>no</td>\n",
              "      <td>no</td>\n",
              "      <td>cellular</td>\n",
              "      <td>aug</td>\n",
              "      <td>69</td>\n",
              "      <td>1</td>\n",
              "      <td>-1</td>\n",
              "      <td>0</td>\n",
              "      <td>unknown</td>\n",
              "      <td>no</td>\n",
              "    </tr>\n",
              "    <tr>\n",
              "      <th>3</th>\n",
              "      <td>4003</td>\n",
              "      <td>58</td>\n",
              "      <td>technician</td>\n",
              "      <td>divorced</td>\n",
              "      <td>secondary</td>\n",
              "      <td>no</td>\n",
              "      <td>-123</td>\n",
              "      <td>no</td>\n",
              "      <td>no</td>\n",
              "      <td>cellular</td>\n",
              "      <td>aug</td>\n",
              "      <td>131</td>\n",
              "      <td>2</td>\n",
              "      <td>-1</td>\n",
              "      <td>0</td>\n",
              "      <td>unknown</td>\n",
              "      <td>no</td>\n",
              "    </tr>\n",
              "    <tr>\n",
              "      <th>4</th>\n",
              "      <td>4004</td>\n",
              "      <td>26</td>\n",
              "      <td>student</td>\n",
              "      <td>single</td>\n",
              "      <td>secondary</td>\n",
              "      <td>no</td>\n",
              "      <td>-147</td>\n",
              "      <td>no</td>\n",
              "      <td>no</td>\n",
              "      <td>unknown</td>\n",
              "      <td>jun</td>\n",
              "      <td>95</td>\n",
              "      <td>2</td>\n",
              "      <td>-1</td>\n",
              "      <td>0</td>\n",
              "      <td>unknown</td>\n",
              "      <td>no</td>\n",
              "    </tr>\n",
              "  </tbody>\n",
              "</table>\n",
              "</div>"
            ],
            "text/plain": [
              "     id  age         job   marital  education default  balance housing loan  \\\n",
              "0  4000   44    services   married  secondary      no       27      no   no   \n",
              "1  4001   53      admin.  divorced  secondary      no       26     yes   no   \n",
              "2  4002   36  technician   married  secondary      no      191      no   no   \n",
              "3  4003   58  technician  divorced  secondary      no     -123      no   no   \n",
              "4  4004   26     student    single  secondary      no     -147      no   no   \n",
              "\n",
              "    contact month  duration  campaign  pdays  previous poutcome   y  \n",
              "0  cellular   may       485         1     -1         0  unknown  no  \n",
              "1  cellular   may        56         1    359         1  failure  no  \n",
              "2  cellular   aug        69         1     -1         0  unknown  no  \n",
              "3  cellular   aug       131         2     -1         0  unknown  no  \n",
              "4   unknown   jun        95         2     -1         0  unknown  no  "
            ]
          },
          "execution_count": 11,
          "metadata": {},
          "output_type": "execute_result"
        }
      ],
      "source": [
        "test.head()"
      ]
    },
    {
      "cell_type": "code",
      "execution_count": 12,
      "metadata": {
        "colab": {
          "base_uri": "https://localhost:8080/"
        },
        "id": "TzFi6aKSikG1",
        "outputId": "62de8562-86ca-46b7-af92-066401aa5325"
      },
      "outputs": [
        {
          "name": "stdout",
          "output_type": "stream",
          "text": [
            "\u001b[94m\n",
            "Number of rows in test data: 522\n",
            "Number of columns in test data: 17\n",
            "Number of values in test data: 8874\n",
            "Number of missing values in test data: 0\n"
          ]
        }
      ],
      "source": [
        "print(f'\\033[94m')\n",
        "print(f'Number of rows in test data: {test.shape[0]}')\n",
        "print(f'Number of columns in test data: {test.shape[1]}')\n",
        "print(f'Number of values in test data: {test.count().sum()}')\n",
        "print(f'Number of missing values in test data: {sum(test.isna().sum())}')"
      ]
    },
    {
      "cell_type": "markdown",
      "metadata": {
        "id": "I2oTkPSniY0l"
      },
      "source": [
        "### Column Wise missing values"
      ]
    },
    {
      "cell_type": "code",
      "execution_count": 13,
      "metadata": {
        "colab": {
          "base_uri": "https://localhost:8080/"
        },
        "id": "P1HGUzCDiqUi",
        "outputId": "386a6c18-3a09-42de-f71b-20ca85fcffb5"
      },
      "outputs": [
        {
          "name": "stdout",
          "output_type": "stream",
          "text": [
            "\u001b[94m\n",
            "id           0\n",
            "age          0\n",
            "job          0\n",
            "marital      0\n",
            "education    0\n",
            "default      0\n",
            "balance      0\n",
            "housing      0\n",
            "loan         0\n",
            "contact      0\n",
            "month        0\n",
            "duration     0\n",
            "campaign     0\n",
            "pdays        0\n",
            "previous     0\n",
            "poutcome     0\n",
            "y            0\n",
            "dtype: int64\n"
          ]
        }
      ],
      "source": [
        "print(f'\\033[94m')\n",
        "print(test.isna().sum())"
      ]
    },
    {
      "cell_type": "markdown",
      "metadata": {
        "id": "V27e_vk6ifiW"
      },
      "source": [
        "### Basic statistics of test data"
      ]
    },
    {
      "cell_type": "code",
      "execution_count": 14,
      "metadata": {
        "colab": {
          "base_uri": "https://localhost:8080/",
          "height": 300
        },
        "id": "-2Fa70scisfm",
        "outputId": "7f27f322-3e2f-4a4e-ef7b-f36594e52524"
      },
      "outputs": [
        {
          "data": {
            "text/html": [
              "<div>\n",
              "<style scoped>\n",
              "    .dataframe tbody tr th:only-of-type {\n",
              "        vertical-align: middle;\n",
              "    }\n",
              "\n",
              "    .dataframe tbody tr th {\n",
              "        vertical-align: top;\n",
              "    }\n",
              "\n",
              "    .dataframe thead th {\n",
              "        text-align: right;\n",
              "    }\n",
              "</style>\n",
              "<table border=\"1\" class=\"dataframe\">\n",
              "  <thead>\n",
              "    <tr style=\"text-align: right;\">\n",
              "      <th></th>\n",
              "      <th>id</th>\n",
              "      <th>age</th>\n",
              "      <th>balance</th>\n",
              "      <th>duration</th>\n",
              "      <th>campaign</th>\n",
              "      <th>pdays</th>\n",
              "      <th>previous</th>\n",
              "    </tr>\n",
              "  </thead>\n",
              "  <tbody>\n",
              "    <tr>\n",
              "      <th>count</th>\n",
              "      <td>522.000000</td>\n",
              "      <td>522.000000</td>\n",
              "      <td>522.000000</td>\n",
              "      <td>522.000000</td>\n",
              "      <td>522.000000</td>\n",
              "      <td>522.000000</td>\n",
              "      <td>522.000000</td>\n",
              "    </tr>\n",
              "    <tr>\n",
              "      <th>mean</th>\n",
              "      <td>4260.500000</td>\n",
              "      <td>40.906130</td>\n",
              "      <td>1472.254789</td>\n",
              "      <td>279.703065</td>\n",
              "      <td>2.892720</td>\n",
              "      <td>42.840996</td>\n",
              "      <td>0.559387</td>\n",
              "    </tr>\n",
              "    <tr>\n",
              "      <th>std</th>\n",
              "      <td>150.832689</td>\n",
              "      <td>10.546888</td>\n",
              "      <td>2947.355648</td>\n",
              "      <td>267.202666</td>\n",
              "      <td>3.305899</td>\n",
              "      <td>104.563234</td>\n",
              "      <td>1.988768</td>\n",
              "    </tr>\n",
              "    <tr>\n",
              "      <th>min</th>\n",
              "      <td>4000.000000</td>\n",
              "      <td>21.000000</td>\n",
              "      <td>-3313.000000</td>\n",
              "      <td>7.000000</td>\n",
              "      <td>1.000000</td>\n",
              "      <td>-1.000000</td>\n",
              "      <td>0.000000</td>\n",
              "    </tr>\n",
              "    <tr>\n",
              "      <th>25%</th>\n",
              "      <td>4130.250000</td>\n",
              "      <td>32.250000</td>\n",
              "      <td>75.750000</td>\n",
              "      <td>108.500000</td>\n",
              "      <td>1.000000</td>\n",
              "      <td>-1.000000</td>\n",
              "      <td>0.000000</td>\n",
              "    </tr>\n",
              "    <tr>\n",
              "      <th>50%</th>\n",
              "      <td>4260.500000</td>\n",
              "      <td>39.000000</td>\n",
              "      <td>439.500000</td>\n",
              "      <td>200.000000</td>\n",
              "      <td>2.000000</td>\n",
              "      <td>-1.000000</td>\n",
              "      <td>0.000000</td>\n",
              "    </tr>\n",
              "    <tr>\n",
              "      <th>75%</th>\n",
              "      <td>4390.750000</td>\n",
              "      <td>48.000000</td>\n",
              "      <td>1535.250000</td>\n",
              "      <td>355.250000</td>\n",
              "      <td>3.000000</td>\n",
              "      <td>-1.000000</td>\n",
              "      <td>0.000000</td>\n",
              "    </tr>\n",
              "    <tr>\n",
              "      <th>max</th>\n",
              "      <td>4521.000000</td>\n",
              "      <td>84.000000</td>\n",
              "      <td>26452.000000</td>\n",
              "      <td>2456.000000</td>\n",
              "      <td>44.000000</td>\n",
              "      <td>804.000000</td>\n",
              "      <td>25.000000</td>\n",
              "    </tr>\n",
              "  </tbody>\n",
              "</table>\n",
              "</div>"
            ],
            "text/plain": [
              "                id         age       balance     duration    campaign  \\\n",
              "count   522.000000  522.000000    522.000000   522.000000  522.000000   \n",
              "mean   4260.500000   40.906130   1472.254789   279.703065    2.892720   \n",
              "std     150.832689   10.546888   2947.355648   267.202666    3.305899   \n",
              "min    4000.000000   21.000000  -3313.000000     7.000000    1.000000   \n",
              "25%    4130.250000   32.250000     75.750000   108.500000    1.000000   \n",
              "50%    4260.500000   39.000000    439.500000   200.000000    2.000000   \n",
              "75%    4390.750000   48.000000   1535.250000   355.250000    3.000000   \n",
              "max    4521.000000   84.000000  26452.000000  2456.000000   44.000000   \n",
              "\n",
              "            pdays    previous  \n",
              "count  522.000000  522.000000  \n",
              "mean    42.840996    0.559387  \n",
              "std    104.563234    1.988768  \n",
              "min     -1.000000    0.000000  \n",
              "25%     -1.000000    0.000000  \n",
              "50%     -1.000000    0.000000  \n",
              "75%     -1.000000    0.000000  \n",
              "max    804.000000   25.000000  "
            ]
          },
          "execution_count": 14,
          "metadata": {},
          "output_type": "execute_result"
        }
      ],
      "source": [
        "test.describe()"
      ]
    },
    {
      "cell_type": "code",
      "execution_count": 15,
      "metadata": {
        "colab": {
          "base_uri": "https://localhost:8080/",
          "height": 175
        },
        "id": "SL9iuy3FjP5-",
        "outputId": "bbf9fa5b-112f-4833-d255-65192f9ca8c7"
      },
      "outputs": [
        {
          "data": {
            "text/html": [
              "<div>\n",
              "<style scoped>\n",
              "    .dataframe tbody tr th:only-of-type {\n",
              "        vertical-align: middle;\n",
              "    }\n",
              "\n",
              "    .dataframe tbody tr th {\n",
              "        vertical-align: top;\n",
              "    }\n",
              "\n",
              "    .dataframe thead th {\n",
              "        text-align: right;\n",
              "    }\n",
              "</style>\n",
              "<table border=\"1\" class=\"dataframe\">\n",
              "  <thead>\n",
              "    <tr style=\"text-align: right;\">\n",
              "      <th></th>\n",
              "      <th>job</th>\n",
              "      <th>marital</th>\n",
              "      <th>education</th>\n",
              "      <th>default</th>\n",
              "      <th>housing</th>\n",
              "      <th>loan</th>\n",
              "      <th>contact</th>\n",
              "      <th>month</th>\n",
              "      <th>poutcome</th>\n",
              "      <th>y</th>\n",
              "    </tr>\n",
              "  </thead>\n",
              "  <tbody>\n",
              "    <tr>\n",
              "      <th>count</th>\n",
              "      <td>522</td>\n",
              "      <td>522</td>\n",
              "      <td>522</td>\n",
              "      <td>522</td>\n",
              "      <td>522</td>\n",
              "      <td>522</td>\n",
              "      <td>522</td>\n",
              "      <td>522</td>\n",
              "      <td>522</td>\n",
              "      <td>522</td>\n",
              "    </tr>\n",
              "    <tr>\n",
              "      <th>unique</th>\n",
              "      <td>12</td>\n",
              "      <td>3</td>\n",
              "      <td>4</td>\n",
              "      <td>2</td>\n",
              "      <td>2</td>\n",
              "      <td>2</td>\n",
              "      <td>3</td>\n",
              "      <td>12</td>\n",
              "      <td>4</td>\n",
              "      <td>2</td>\n",
              "    </tr>\n",
              "    <tr>\n",
              "      <th>top</th>\n",
              "      <td>blue-collar</td>\n",
              "      <td>married</td>\n",
              "      <td>secondary</td>\n",
              "      <td>no</td>\n",
              "      <td>yes</td>\n",
              "      <td>no</td>\n",
              "      <td>cellular</td>\n",
              "      <td>may</td>\n",
              "      <td>unknown</td>\n",
              "      <td>no</td>\n",
              "    </tr>\n",
              "    <tr>\n",
              "      <th>freq</th>\n",
              "      <td>117</td>\n",
              "      <td>307</td>\n",
              "      <td>278</td>\n",
              "      <td>515</td>\n",
              "      <td>297</td>\n",
              "      <td>445</td>\n",
              "      <td>328</td>\n",
              "      <td>157</td>\n",
              "      <td>424</td>\n",
              "      <td>459</td>\n",
              "    </tr>\n",
              "  </tbody>\n",
              "</table>\n",
              "</div>"
            ],
            "text/plain": [
              "                job  marital  education default housing loan   contact month  \\\n",
              "count           522      522        522     522     522  522       522   522   \n",
              "unique           12        3          4       2       2    2         3    12   \n",
              "top     blue-collar  married  secondary      no     yes   no  cellular   may   \n",
              "freq            117      307        278     515     297  445       328   157   \n",
              "\n",
              "       poutcome    y  \n",
              "count       522  522  \n",
              "unique        4    2  \n",
              "top     unknown   no  \n",
              "freq        424  459  "
            ]
          },
          "execution_count": 15,
          "metadata": {},
          "output_type": "execute_result"
        }
      ],
      "source": [
        "test.describe(include='O')"
      ]
    },
    {
      "cell_type": "markdown",
      "metadata": {
        "id": "OJdYf79izFW3"
      },
      "source": [
        "## Submission File"
      ]
    },
    {
      "cell_type": "markdown",
      "metadata": {
        "id": "rhE-JFPyzIUe"
      },
      "source": [
        "### Quick view of Submission File"
      ]
    },
    {
      "cell_type": "code",
      "execution_count": 16,
      "metadata": {
        "colab": {
          "base_uri": "https://localhost:8080/",
          "height": 206
        },
        "id": "pYnZj8LKzL0E",
        "outputId": "b2657a84-38ad-4eb6-c546-ff5cd4f285a3"
      },
      "outputs": [
        {
          "data": {
            "text/html": [
              "<div>\n",
              "<style scoped>\n",
              "    .dataframe tbody tr th:only-of-type {\n",
              "        vertical-align: middle;\n",
              "    }\n",
              "\n",
              "    .dataframe tbody tr th {\n",
              "        vertical-align: top;\n",
              "    }\n",
              "\n",
              "    .dataframe thead th {\n",
              "        text-align: right;\n",
              "    }\n",
              "</style>\n",
              "<table border=\"1\" class=\"dataframe\">\n",
              "  <thead>\n",
              "    <tr style=\"text-align: right;\">\n",
              "      <th></th>\n",
              "      <th>id</th>\n",
              "      <th>y</th>\n",
              "    </tr>\n",
              "  </thead>\n",
              "  <tbody>\n",
              "    <tr>\n",
              "      <th>0</th>\n",
              "      <td>4000</td>\n",
              "      <td>0.843403</td>\n",
              "    </tr>\n",
              "    <tr>\n",
              "      <th>1</th>\n",
              "      <td>4001</td>\n",
              "      <td>0.821234</td>\n",
              "    </tr>\n",
              "    <tr>\n",
              "      <th>2</th>\n",
              "      <td>4002</td>\n",
              "      <td>0.100092</td>\n",
              "    </tr>\n",
              "    <tr>\n",
              "      <th>3</th>\n",
              "      <td>4003</td>\n",
              "      <td>0.156351</td>\n",
              "    </tr>\n",
              "    <tr>\n",
              "      <th>4</th>\n",
              "      <td>4004</td>\n",
              "      <td>0.519778</td>\n",
              "    </tr>\n",
              "  </tbody>\n",
              "</table>\n",
              "</div>"
            ],
            "text/plain": [
              "     id         y\n",
              "0  4000  0.843403\n",
              "1  4001  0.821234\n",
              "2  4002  0.100092\n",
              "3  4003  0.156351\n",
              "4  4004  0.519778"
            ]
          },
          "execution_count": 16,
          "metadata": {},
          "output_type": "execute_result"
        }
      ],
      "source": [
        "sample_submission.head()"
      ]
    },
    {
      "cell_type": "markdown",
      "metadata": {
        "id": "Y9OcuZHDdmVA"
      },
      "source": [
        "# EDA"
      ]
    },
    {
      "cell_type": "markdown",
      "metadata": {
        "id": "9tgITgAR0y5L"
      },
      "source": [
        "## Overview of Data"
      ]
    },
    {
      "cell_type": "code",
      "execution_count": 17,
      "metadata": {
        "id": "n1fPNPuJ0vuq"
      },
      "outputs": [],
      "source": [
        "train.drop(['id'], axis=1, inplace=True)\n",
        "test.drop(['id'], axis=1, inplace=True)\n",
        "TARGET = 'y'\n",
        "FEATURES = [col for col in train.columns if col != TARGET]\n",
        "RANDOM_STATE = 7"
      ]
    },
    {
      "cell_type": "code",
      "execution_count": 18,
      "metadata": {
        "colab": {
          "base_uri": "https://localhost:8080/",
          "height": 237
        },
        "id": "BGAichYF1N50",
        "outputId": "a2b8f940-fbaa-44bc-f01f-da73dc4b26e7"
      },
      "outputs": [
        {
          "ename": "ImportError",
          "evalue": "Missing optional dependency 'Jinja2'. DataFrame.style requires jinja2. Use pip or conda to install Jinja2.",
          "output_type": "error",
          "traceback": [
            "\u001b[0;31m---------------------------------------------------------------------------\u001b[0m",
            "\u001b[0;31mModuleNotFoundError\u001b[0m                       Traceback (most recent call last)",
            "File \u001b[0;32m~/miniconda3/envs/datascience/lib/python3.9/site-packages/pandas/compat/_optional.py:132\u001b[0m, in \u001b[0;36mimport_optional_dependency\u001b[0;34m(name, extra, errors, min_version)\u001b[0m\n\u001b[1;32m    131\u001b[0m \u001b[39mtry\u001b[39;00m:\n\u001b[0;32m--> 132\u001b[0m     module \u001b[39m=\u001b[39m importlib\u001b[39m.\u001b[39;49mimport_module(name)\n\u001b[1;32m    133\u001b[0m \u001b[39mexcept\u001b[39;00m \u001b[39mImportError\u001b[39;00m:\n",
            "File \u001b[0;32m~/miniconda3/envs/datascience/lib/python3.9/importlib/__init__.py:127\u001b[0m, in \u001b[0;36mimport_module\u001b[0;34m(name, package)\u001b[0m\n\u001b[1;32m    126\u001b[0m         level \u001b[39m+\u001b[39m\u001b[39m=\u001b[39m \u001b[39m1\u001b[39m\n\u001b[0;32m--> 127\u001b[0m \u001b[39mreturn\u001b[39;00m _bootstrap\u001b[39m.\u001b[39;49m_gcd_import(name[level:], package, level)\n",
            "File \u001b[0;32m<frozen importlib._bootstrap>:1030\u001b[0m, in \u001b[0;36m_gcd_import\u001b[0;34m(name, package, level)\u001b[0m\n",
            "File \u001b[0;32m<frozen importlib._bootstrap>:1007\u001b[0m, in \u001b[0;36m_find_and_load\u001b[0;34m(name, import_)\u001b[0m\n",
            "File \u001b[0;32m<frozen importlib._bootstrap>:984\u001b[0m, in \u001b[0;36m_find_and_load_unlocked\u001b[0;34m(name, import_)\u001b[0m\n",
            "\u001b[0;31mModuleNotFoundError\u001b[0m: No module named 'jinja2'",
            "\nDuring handling of the above exception, another exception occurred:\n",
            "\u001b[0;31mImportError\u001b[0m                               Traceback (most recent call last)",
            "\u001b[1;32m/Users/pupipatsingkhorn/Library/CloudStorage/GoogleDrive-6210054308@student.triamudom.ac.th/My Drive/Case Competiton/Aihack Thailand 2023/00_Pre-Practice Task (For Participants)/2023 Pre Practice (Task)/Task/Pre_Practice.ipynb Cell 34\u001b[0m line \u001b[0;36m1\n\u001b[0;32m----> <a href='vscode-notebook-cell:/Users/pupipatsingkhorn/Library/CloudStorage/GoogleDrive-6210054308%40student.triamudom.ac.th/My%20Drive/Case%20Competiton/Aihack%20Thailand%202023/00_Pre-Practice%20Task%20%28For%20Participants%29/2023%20Pre%20Practice%20%28Task%29/Task/Pre_Practice.ipynb#X45sZmlsZQ%3D%3D?line=0'>1</a>\u001b[0m train\u001b[39m.\u001b[39;49miloc[:, :\u001b[39m-\u001b[39;49m\u001b[39m1\u001b[39;49m]\u001b[39m.\u001b[39;49mdescribe()\u001b[39m.\u001b[39;49mT\u001b[39m.\u001b[39;49msort_values(by\u001b[39m=\u001b[39;49m\u001b[39m'\u001b[39;49m\u001b[39mstd\u001b[39;49m\u001b[39m'\u001b[39;49m, ascending\u001b[39m=\u001b[39;49m\u001b[39mFalse\u001b[39;49;00m)\\\n\u001b[1;32m      <a href='vscode-notebook-cell:/Users/pupipatsingkhorn/Library/CloudStorage/GoogleDrive-6210054308%40student.triamudom.ac.th/My%20Drive/Case%20Competiton/Aihack%20Thailand%202023/00_Pre-Practice%20Task%20%28For%20Participants%29/2023%20Pre%20Practice%20%28Task%29/Task/Pre_Practice.ipynb#X45sZmlsZQ%3D%3D?line=1'>2</a>\u001b[0m                     \u001b[39m.\u001b[39;49mstyle\u001b[39m.\u001b[39mbackground_gradient(cmap\u001b[39m=\u001b[39m\u001b[39m'\u001b[39m\u001b[39mGnBu\u001b[39m\u001b[39m'\u001b[39m)\\\n\u001b[1;32m      <a href='vscode-notebook-cell:/Users/pupipatsingkhorn/Library/CloudStorage/GoogleDrive-6210054308%40student.triamudom.ac.th/My%20Drive/Case%20Competiton/Aihack%20Thailand%202023/00_Pre-Practice%20Task%20%28For%20Participants%29/2023%20Pre%20Practice%20%28Task%29/Task/Pre_Practice.ipynb#X45sZmlsZQ%3D%3D?line=2'>3</a>\u001b[0m                     \u001b[39m.\u001b[39mbar(subset\u001b[39m=\u001b[39m[\u001b[39m'\u001b[39m\u001b[39mmax\u001b[39m\u001b[39m'\u001b[39m], color\u001b[39m=\u001b[39m\u001b[39m'\u001b[39m\u001b[39m#BB0000\u001b[39m\u001b[39m'\u001b[39m)\\\n\u001b[1;32m      <a href='vscode-notebook-cell:/Users/pupipatsingkhorn/Library/CloudStorage/GoogleDrive-6210054308%40student.triamudom.ac.th/My%20Drive/Case%20Competiton/Aihack%20Thailand%202023/00_Pre-Practice%20Task%20%28For%20Participants%29/2023%20Pre%20Practice%20%28Task%29/Task/Pre_Practice.ipynb#X45sZmlsZQ%3D%3D?line=3'>4</a>\u001b[0m                     \u001b[39m.\u001b[39mbar(subset\u001b[39m=\u001b[39m[\u001b[39m'\u001b[39m\u001b[39mmean\u001b[39m\u001b[39m'\u001b[39m], color\u001b[39m=\u001b[39m\u001b[39m'\u001b[39m\u001b[39mgreen\u001b[39m\u001b[39m'\u001b[39m)\n",
            "File \u001b[0;32m~/miniconda3/envs/datascience/lib/python3.9/site-packages/pandas/core/frame.py:1341\u001b[0m, in \u001b[0;36mDataFrame.style\u001b[0;34m(self)\u001b[0m\n\u001b[1;32m   1321\u001b[0m \u001b[39m@property\u001b[39m\n\u001b[1;32m   1322\u001b[0m \u001b[39mdef\u001b[39;00m \u001b[39mstyle\u001b[39m(\u001b[39mself\u001b[39m) \u001b[39m-\u001b[39m\u001b[39m>\u001b[39m Styler:\n\u001b[1;32m   1323\u001b[0m \u001b[39m    \u001b[39m\u001b[39m\"\"\"\u001b[39;00m\n\u001b[1;32m   1324\u001b[0m \u001b[39m    Returns a Styler object.\u001b[39;00m\n\u001b[1;32m   1325\u001b[0m \n\u001b[0;32m   (...)\u001b[0m\n\u001b[1;32m   1339\u001b[0m \u001b[39m    `Table Visualization <../../user_guide/style.ipynb>`_ for more examples.\u001b[39;00m\n\u001b[1;32m   1340\u001b[0m \u001b[39m    \"\"\"\u001b[39;00m\n\u001b[0;32m-> 1341\u001b[0m     \u001b[39mfrom\u001b[39;00m \u001b[39mpandas\u001b[39;00m\u001b[39m.\u001b[39;00m\u001b[39mio\u001b[39;00m\u001b[39m.\u001b[39;00m\u001b[39mformats\u001b[39;00m\u001b[39m.\u001b[39;00m\u001b[39mstyle\u001b[39;00m \u001b[39mimport\u001b[39;00m Styler\n\u001b[1;32m   1343\u001b[0m     \u001b[39mreturn\u001b[39;00m Styler(\u001b[39mself\u001b[39m)\n",
            "File \u001b[0;32m~/miniconda3/envs/datascience/lib/python3.9/site-packages/pandas/io/formats/style.py:44\u001b[0m\n\u001b[1;32m     40\u001b[0m \u001b[39mfrom\u001b[39;00m \u001b[39mpandas\u001b[39;00m\u001b[39m.\u001b[39;00m\u001b[39mcore\u001b[39;00m\u001b[39m.\u001b[39;00m\u001b[39mshared_docs\u001b[39;00m \u001b[39mimport\u001b[39;00m _shared_docs\n\u001b[1;32m     42\u001b[0m \u001b[39mfrom\u001b[39;00m \u001b[39mpandas\u001b[39;00m\u001b[39m.\u001b[39;00m\u001b[39mio\u001b[39;00m\u001b[39m.\u001b[39;00m\u001b[39mformats\u001b[39;00m\u001b[39m.\u001b[39;00m\u001b[39mformat\u001b[39;00m \u001b[39mimport\u001b[39;00m save_to_buffer\n\u001b[0;32m---> 44\u001b[0m jinja2 \u001b[39m=\u001b[39m import_optional_dependency(\u001b[39m\"\u001b[39;49m\u001b[39mjinja2\u001b[39;49m\u001b[39m\"\u001b[39;49m, extra\u001b[39m=\u001b[39;49m\u001b[39m\"\u001b[39;49m\u001b[39mDataFrame.style requires jinja2.\u001b[39;49m\u001b[39m\"\u001b[39;49m)\n\u001b[1;32m     46\u001b[0m \u001b[39mfrom\u001b[39;00m \u001b[39mpandas\u001b[39;00m\u001b[39m.\u001b[39;00m\u001b[39mio\u001b[39;00m\u001b[39m.\u001b[39;00m\u001b[39mformats\u001b[39;00m\u001b[39m.\u001b[39;00m\u001b[39mstyle_render\u001b[39;00m \u001b[39mimport\u001b[39;00m (\n\u001b[1;32m     47\u001b[0m     CSSProperties,\n\u001b[1;32m     48\u001b[0m     CSSStyles,\n\u001b[0;32m   (...)\u001b[0m\n\u001b[1;32m     56\u001b[0m     refactor_levels,\n\u001b[1;32m     57\u001b[0m )\n\u001b[1;32m     59\u001b[0m \u001b[39mif\u001b[39;00m TYPE_CHECKING:\n",
            "File \u001b[0;32m~/miniconda3/envs/datascience/lib/python3.9/site-packages/pandas/compat/_optional.py:135\u001b[0m, in \u001b[0;36mimport_optional_dependency\u001b[0;34m(name, extra, errors, min_version)\u001b[0m\n\u001b[1;32m    133\u001b[0m \u001b[39mexcept\u001b[39;00m \u001b[39mImportError\u001b[39;00m:\n\u001b[1;32m    134\u001b[0m     \u001b[39mif\u001b[39;00m errors \u001b[39m==\u001b[39m \u001b[39m\"\u001b[39m\u001b[39mraise\u001b[39m\u001b[39m\"\u001b[39m:\n\u001b[0;32m--> 135\u001b[0m         \u001b[39mraise\u001b[39;00m \u001b[39mImportError\u001b[39;00m(msg)\n\u001b[1;32m    136\u001b[0m     \u001b[39mreturn\u001b[39;00m \u001b[39mNone\u001b[39;00m\n\u001b[1;32m    138\u001b[0m \u001b[39m# Handle submodules: if we have submodule, grab parent module from sys.modules\u001b[39;00m\n",
            "\u001b[0;31mImportError\u001b[0m: Missing optional dependency 'Jinja2'. DataFrame.style requires jinja2. Use pip or conda to install Jinja2."
          ]
        }
      ],
      "source": [
        "train.iloc[:, :-1].describe().T.sort_values(by='std', ascending=False)\\\n",
        "                    .style.background_gradient(cmap='GnBu')\\\n",
        "                    .bar(subset=['max'], color='#BB0000')\\\n",
        "                    .bar(subset=['mean'], color='green')"
      ]
    },
    {
      "cell_type": "markdown",
      "metadata": {
        "id": "igdwfU0t2akZ"
      },
      "source": [
        "## Continuos and Categorical Data Distribution"
      ]
    },
    {
      "cell_type": "code",
      "execution_count": null,
      "metadata": {
        "colab": {
          "base_uri": "https://localhost:8080/",
          "height": 611
        },
        "id": "m6uC7an72kCv",
        "outputId": "87619212-fe26-4cec-f895-42580bf552a5"
      },
      "outputs": [],
      "source": [
        "df = pd.concat([train[FEATURES], test[FEATURES]], axis=0)\n",
        "cat_features = [col for col in FEATURES if df[col].nunique() < 20]\n",
        "cont_features = [col for col in FEATURES if df[col].nunique() > 20]\n",
        "\n",
        "del df\n",
        "print(f'\\033[94m')\n",
        "print(f'Number of features: {len(FEATURES)}')\n",
        "print(f'Number of categorical features: {len(cat_features)}')\n",
        "print(f'Number of continuos features: {len(cont_features)}')\n",
        "\n",
        "labels = ['Categorical', 'Continuos']\n",
        "values = [len(cat_features), len(cont_features)]\n",
        "colors = ['#DE3163', '#58D68D']\n",
        "\n",
        "fig = go.Figure(data=[go.Pie(\n",
        "    labels=labels,\n",
        "    values=values, pull=[0.05, 0],\n",
        "    marker=dict(colors=colors,\n",
        "                line=dict(color='#000000',\n",
        "                          width=2))\n",
        ")])\n",
        "fig.show()"
      ]
    },
    {
      "cell_type": "markdown",
      "metadata": {
        "id": "M8XZUaNm5yUR"
      },
      "source": [
        "## Feature Distribution of Continous Features"
      ]
    },
    {
      "cell_type": "code",
      "execution_count": null,
      "metadata": {
        "colab": {
          "base_uri": "https://localhost:8080/",
          "height": 1000
        },
        "id": "uYdcw_E15-yh",
        "outputId": "99664982-ff60-4ffd-af49-8567d2913c9a"
      },
      "outputs": [],
      "source": [
        "for i, cont in enumerate(cont_features):\n",
        "  train_cont = train.copy()\n",
        "  test_cont = test.copy()\n",
        "  train_cont[\"type\"] = \"Train\"\n",
        "  test_cont[\"type\"] = \"Test\"\n",
        "  contDf = pd.concat([train_cont, test_cont])\n",
        "  fig = px.histogram(data_frame = contDf,\n",
        "                    x=cont,\n",
        "                    color= \"type\",\n",
        "                    color_discrete_sequence =  ['#58D68D','#DE3163'],\n",
        "                    marginal=\"box\",\n",
        "                    nbins= 100,\n",
        "                      template=\"plotly_white\"\n",
        "                  )\n",
        "  fig.update_layout(title = f\"Distribution of {cont} ({i+1})\" , title_x = 0.5)\n",
        "  fig.show()"
      ]
    },
    {
      "cell_type": "markdown",
      "metadata": {
        "id": "BBUKDPRl7YeM"
      },
      "source": [
        "## Feature Distribution of Categorical Features"
      ]
    },
    {
      "cell_type": "code",
      "execution_count": null,
      "metadata": {
        "colab": {
          "base_uri": "https://localhost:8080/"
        },
        "id": "8VPtcvRb8Uom",
        "outputId": "38a4a01b-0f12-4ac5-8657-23711091d953"
      },
      "outputs": [],
      "source": [
        "cat_features"
      ]
    },
    {
      "cell_type": "code",
      "execution_count": null,
      "metadata": {
        "colab": {
          "base_uri": "https://localhost:8080/",
          "height": 879
        },
        "id": "pp5xQuKB7ejj",
        "outputId": "be9cec0c-3ce5-40f4-f69b-15a500a978c5"
      },
      "outputs": [],
      "source": [
        "ncols = 3\n",
        "nrows = 3\n",
        "\n",
        "fig, axes = plt.subplots(nrows, ncols, figsize=(32, 24))\n",
        "for r in range(nrows):\n",
        "  for c in range(ncols):\n",
        "    col = cat_features[r*ncols + c]\n",
        "\n",
        "    sns.countplot(train, x=col, ax = axes[r,c] ,palette = \"viridis\", label='Train data')\n",
        "    sns.countplot(test, x=col, ax = axes[r,c] ,palette = \"magma\", label='Test data')\n",
        "    axes[r,c].legend()\n",
        "    axes[r,c].set_ylabel('')\n",
        "    axes[r,c].set_xlabel(col, fontsize=20)\n",
        "    axes[r,c].set_xticklabels(axes[r, c].get_xticklabels(), rotation=45)\n",
        "    axes[r,c].tick_params(labelsize=10, width=0.5)\n",
        "    axes[r,c].xaxis.offsetText.set_fontsize(4)\n",
        "    axes[r,c].yaxis.offsetText.set_fontsize(4)\n",
        "plt.show()"
      ]
    },
    {
      "cell_type": "markdown",
      "metadata": {
        "id": "VAPd5qB0-ByF"
      },
      "source": [
        "## Target Distribution"
      ]
    },
    {
      "cell_type": "code",
      "execution_count": null,
      "metadata": {
        "colab": {
          "base_uri": "https://localhost:8080/",
          "height": 577
        },
        "id": "HtG9mjHa-H7B",
        "outputId": "96a78b86-0a8b-4476-907f-a4e52badbd18"
      },
      "outputs": [],
      "source": [
        "target_df = pd.DataFrame(train[TARGET].value_counts()).reset_index()\n",
        "target_df.columns = [TARGET, 'count']\n",
        "fig = px.bar(data_frame = target_df,\n",
        "             x = TARGET,\n",
        "             y = 'count'\n",
        "             )\n",
        "fig.update_traces(marker_color =['#58D68D','#DE3163'],\n",
        "                  marker_line_color='rgb(0,0,0)',\n",
        "                  marker_line_width=2,)\n",
        "fig.update_layout(title = \"Target Distribution\",\n",
        "                  template = \"plotly_white\",\n",
        "                  title_x = 0.5)\n",
        "print(\"\\033[94mPercentage of\", TARGET,\"= no: {:.2f} %\".format(target_df[\"count\"][0] *100 / train.shape[0]))\n",
        "print(\"\\033[94mPercentage of\", TARGET,\"= yes: {:.2f} %\".format(target_df[\"count\"][1]* 100 / train.shape[0]))\n",
        "fig.show()"
      ]
    },
    {
      "cell_type": "markdown",
      "metadata": {
        "id": "NRzOt6U4_mXW"
      },
      "source": [
        "## Correlation matrix"
      ]
    },
    {
      "cell_type": "code",
      "execution_count": null,
      "metadata": {
        "colab": {
          "base_uri": "https://localhost:8080/",
          "height": 542
        },
        "id": "hANULlm7_lzb",
        "outputId": "ebe9b2b1-0af1-4d68-894e-cfed35372a7d"
      },
      "outputs": [],
      "source": [
        "fig = px.imshow(train.corr(), text_auto=True, aspect=\"auto\", color_continuous_scale=\"viridis\")\n",
        "fig.show()"
      ]
    },
    {
      "cell_type": "markdown",
      "metadata": {
        "id": "DvPwI5I2dpng"
      },
      "source": [
        "# Data Pre-Processing"
      ]
    },
    {
      "cell_type": "code",
      "execution_count": null,
      "metadata": {
        "colab": {
          "base_uri": "https://localhost:8080/",
          "height": 206
        },
        "id": "4ityGP-YBSE2",
        "outputId": "123d3662-00d4-4d63-be20-cbcd4ab71d3a"
      },
      "outputs": [],
      "source": [
        "train.head()"
      ]
    },
    {
      "cell_type": "code",
      "execution_count": null,
      "metadata": {
        "id": "59K5B8eDAEWV"
      },
      "outputs": [],
      "source": [
        "label_cols = [\"job\", \"marital\", \"education\", \"default\", \"housing\", \"contact\", \"month\", \"poutcome\", \"loan\", \"y\"]\n",
        "def label_encoder(train,test,columns):\n",
        "  for col in columns:\n",
        "    train[col] = train[col].astype(str)\n",
        "    test[col] = test[col].astype(str)\n",
        "    train[col] = LabelEncoder().fit_transform(train[col])\n",
        "    test[col] =  LabelEncoder().fit_transform(test[col])\n",
        "  return train, test\n",
        "\n",
        "train ,test = label_encoder(train,test ,label_cols)"
      ]
    },
    {
      "cell_type": "code",
      "execution_count": null,
      "metadata": {
        "id": "eZ8ZdI3kCL7h"
      },
      "outputs": [],
      "source": [
        "X = train.drop(TARGET , axis =1 )\n",
        "y = train[TARGET]\n",
        "X_train , X_test , y_train , y_test = train_test_split(X ,\n",
        "                                                       y,\n",
        "                                                       random_state = RANDOM_STATE ,\n",
        "                                                       test_size =0.33)"
      ]
    },
    {
      "cell_type": "markdown",
      "metadata": {
        "id": "MJ8EZTscdt5h"
      },
      "source": [
        "# Modeling"
      ]
    },
    {
      "cell_type": "code",
      "execution_count": null,
      "metadata": {
        "id": "oNDzvvuqEsPO"
      },
      "outputs": [],
      "source": [
        "clf = LazyClassifier(verbose=0,\n",
        "                     ignore_warnings=True,\n",
        "                     custom_metric=None,\n",
        "                     predictions=False,\n",
        "                     random_state=RANDOM_STATE,\n",
        "                     classifiers='all')\n",
        "\n",
        "models, predictions = clf.fit(X_train , X_test , y_train , y_test)\n",
        "clear_output()"
      ]
    },
    {
      "cell_type": "code",
      "execution_count": null,
      "metadata": {
        "colab": {
          "base_uri": "https://localhost:8080/",
          "height": 551
        },
        "id": "lk_8CwCJEx3V",
        "outputId": "6d512de6-219a-439d-f124-7f92056408b1"
      },
      "outputs": [],
      "source": [
        "models[:15]"
      ]
    },
    {
      "cell_type": "code",
      "execution_count": null,
      "metadata": {
        "colab": {
          "base_uri": "https://localhost:8080/",
          "height": 542
        },
        "id": "5Sa66hMZE_xI",
        "outputId": "59f04e27-86a4-4073-a9ee-bf4f364896e3"
      },
      "outputs": [],
      "source": [
        "line = px.line(data_frame= models ,y =[\"ROC AUC\"] , markers = True)\n",
        "line.update_xaxes(title=\"Model\",\n",
        "              rangeslider_visible = False)\n",
        "line.update_yaxes(title = \"\tROC AUC\t\")\n",
        "line.update_traces(line_color=\"red\")\n",
        "line.update_layout(showlegend = True,\n",
        "    title = {\n",
        "        'text': '\tROC AUC\t vs Model',\n",
        "        'y':0.94,\n",
        "        'x':0.5,\n",
        "        'xanchor': 'center',\n",
        "        'yanchor': 'top'})\n",
        "\n",
        "line.show()"
      ]
    },
    {
      "cell_type": "code",
      "execution_count": null,
      "metadata": {
        "id": "iRmbBXhFFd0v"
      },
      "outputs": [],
      "source": [
        "lgb_params = {\n",
        "    'objective' : 'binary',\n",
        "    'n_estimators' :50,\n",
        "    'learning_rate' : 0.08\n",
        "}\n",
        "\n",
        "lgb_predictions = 0\n",
        "lgb_scores = []\n",
        "lgb_fimp = []\n",
        "LGBM_FEATURES = list(train.columns)[:-1]\n",
        "skf = StratifiedKFold(n_splits=5, shuffle=True, random_state=RANDOM_STATE)\n",
        "for fold, (train_idx, valid_idx) in enumerate(skf.split(train[LGBM_FEATURES], train[TARGET])):\n",
        "    print(f'\\033[94m')\n",
        "    print(10*\"=\", f\"Fold={fold+1}\", 10*\"=\")\n",
        "    start_time = time.time()\n",
        "\n",
        "    X_train, X_valid = train.iloc[train_idx][LGBM_FEATURES], train.iloc[valid_idx][LGBM_FEATURES]\n",
        "    y_train , y_valid = train[TARGET].iloc[train_idx] , train[TARGET].iloc[valid_idx]\n",
        "\n",
        "    model = LGBMClassifier(**lgb_params)\n",
        "    model.fit(X_train, y_train)\n",
        "\n",
        "    preds_valid = model.predict(X_valid)\n",
        "    acc = roc_auc_score(y_valid,  preds_valid)\n",
        "    lgb_scores.append(acc)\n",
        "    run_time = time.time() - start_time\n",
        "\n",
        "    fim = pd.DataFrame(index=LGBM_FEATURES,\n",
        "                 data=model.feature_importances_,\n",
        "                 columns=[f'{fold}_importance'])\n",
        "    lgb_fimp.append(fim)\n",
        "\n",
        "    print(f\"Fold={fold+1}, Accuracy score: {acc}%, Run Time: {run_time:.2f}s\")\n",
        "    test_preds = model.predict(test[LGBM_FEATURES])\n",
        "    lgb_predictions += test_preds/5\n",
        "print(\"\")\n",
        "print(\"Mean Accuracy :\", np.mean(lgb_scores))"
      ]
    },
    {
      "cell_type": "code",
      "execution_count": null,
      "metadata": {
        "colab": {
          "base_uri": "https://localhost:8080/",
          "height": 423
        },
        "id": "JLn3cWB5FmRk",
        "outputId": "549e03af-09c2-4cb3-ba15-3466bb56e02c"
      },
      "outputs": [],
      "source": [
        "X_train"
      ]
    },
    {
      "cell_type": "markdown",
      "metadata": {
        "id": "1oL7h2QFdxuE"
      },
      "source": [
        "# Submission"
      ]
    },
    {
      "cell_type": "markdown",
      "metadata": {
        "id": "Zi8fV8wmGdyi"
      },
      "source": [
        "## Autogluon"
      ]
    },
    {
      "cell_type": "code",
      "execution_count": null,
      "metadata": {
        "id": "P-LeB9DJGlrC"
      },
      "outputs": [],
      "source": [
        "from autogluon.tabular import TabularDataset, TabularPredictor"
      ]
    },
    {
      "cell_type": "code",
      "execution_count": null,
      "metadata": {
        "id": "gM0KQJJ8IiX8"
      },
      "outputs": [],
      "source": [
        "train_df , test_df= train_test_split(train,\n",
        "                                     random_state = 7,\n",
        "                                     test_size =0.33)"
      ]
    },
    {
      "cell_type": "code",
      "execution_count": null,
      "metadata": {
        "colab": {
          "base_uri": "https://localhost:8080/"
        },
        "id": "SiyoJoY1Gs3C",
        "outputId": "e0812cda-7cd6-4d26-982d-21a60b6f91df"
      },
      "outputs": [],
      "source": [
        "metric = 'roc_auc'\n",
        "predictor = TabularPredictor(label='y', eval_metric=metric).fit(train_df, time_limit=500, presets='best_quality')"
      ]
    },
    {
      "cell_type": "code",
      "execution_count": null,
      "metadata": {
        "id": "lCsWGg7ANjT2"
      },
      "outputs": [],
      "source": [
        "test_data_nolabel = test_df.drop(['y'], axis=1)"
      ]
    },
    {
      "cell_type": "code",
      "execution_count": null,
      "metadata": {
        "colab": {
          "base_uri": "https://localhost:8080/"
        },
        "id": "ztS4z_szOquE",
        "outputId": "6050ac06-2689-482d-eee8-da01a39aacbd"
      },
      "outputs": [],
      "source": [
        "y_pred = predictor.predict_proba(test_data_nolabel)\n",
        "perf = predictor.evaluate_predictions(y_true=test_df['y'], y_pred=y_pred, auxiliary_metrics=True)"
      ]
    },
    {
      "cell_type": "code",
      "execution_count": null,
      "metadata": {
        "colab": {
          "base_uri": "https://localhost:8080/"
        },
        "id": "jeMf364GZN5d",
        "outputId": "6a68ac2f-4247-49c7-b3d1-6864555d8676"
      },
      "outputs": [],
      "source": [
        "test_y = LabelEncoder().fit_transform(test_df['y'])\n",
        "test_y"
      ]
    },
    {
      "cell_type": "code",
      "execution_count": null,
      "metadata": {
        "colab": {
          "base_uri": "https://localhost:8080/",
          "height": 449
        },
        "id": "tgf7a-bEYdDq",
        "outputId": "89572547-0807-4872-db5f-816452193d71"
      },
      "outputs": [],
      "source": [
        "from sklearn.metrics import roc_curve, auc\n",
        "import matplotlib.pyplot as plt\n",
        "\n",
        "# AUC (Train)\n",
        "fpr, tpr, thresholds = roc_curve(y_true = test_y, y_score = y_pred['yes'])\n",
        "\n",
        "plt.plot(fpr, tpr, label='roc curve (area = %0.3f)' % auc(fpr, tpr))\n",
        "plt.legend()\n",
        "plt.xlabel('false positive rate')\n",
        "plt.ylabel('true positive rate')\n",
        "plt.show()"
      ]
    },
    {
      "cell_type": "code",
      "execution_count": null,
      "metadata": {
        "colab": {
          "base_uri": "https://localhost:8080/",
          "height": 423
        },
        "id": "YHG3Hov6VsjF",
        "outputId": "d0c7a5c5-7bdf-4c86-8edf-320ad7104a1c"
      },
      "outputs": [],
      "source": [
        "y_pred"
      ]
    },
    {
      "cell_type": "code",
      "execution_count": null,
      "metadata": {
        "colab": {
          "base_uri": "https://localhost:8080/",
          "height": 508
        },
        "id": "_VLM-hSTIb58",
        "outputId": "b272bd31-72ec-4373-9555-64b4eb81f94b"
      },
      "outputs": [],
      "source": [
        "predictor.leaderboard(test_df, silent=True)"
      ]
    }
  ],
  "metadata": {
    "colab": {
      "provenance": [],
      "toc_visible": true
    },
    "kernelspec": {
      "display_name": "Python 3",
      "name": "python3"
    },
    "language_info": {
      "codemirror_mode": {
        "name": "ipython",
        "version": 3
      },
      "file_extension": ".py",
      "mimetype": "text/x-python",
      "name": "python",
      "nbconvert_exporter": "python",
      "pygments_lexer": "ipython3",
      "version": "3.9.18"
    }
  },
  "nbformat": 4,
  "nbformat_minor": 0
}
